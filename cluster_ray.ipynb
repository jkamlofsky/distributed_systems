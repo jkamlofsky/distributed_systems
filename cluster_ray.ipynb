{
 "cells": [
  {
   "cell_type": "markdown",
   "id": "f2f2cd53",
   "metadata": {},
   "source": [
    "# Paralelización en Python"
   ]
  },
  {
   "cell_type": "markdown",
   "id": "401df23d",
   "metadata": {},
   "source": [
    "## 1. Introduccion"
   ]
  },
  {
   "cell_type": "markdown",
   "id": "53ebd693",
   "metadata": {},
   "source": [
    "Ray es un proyecto open source para paralelismo y sistemas distribuidos en Python. Es un framework para propositos generales para programar clusters."
   ]
  },
  {
   "cell_type": "markdown",
   "id": "aea517af",
   "metadata": {},
   "source": [
    "Basado en: https://rise.cs.berkeley.edu/blog/ray-tips-for-first-time-users/"
   ]
  },
  {
   "cell_type": "markdown",
   "id": "e0f58461",
   "metadata": {},
   "source": [
    "<b>Características del equipo:</b><br>\n",
    "Este experimento se realizo sobre una HP Pavilion TS 15 Notebook PC, 4 Core modelo: AMD A10-5745M 1100/2100 MHz, 10.9 GiB RAM. SO: Linux Mint 20.1 Ulyssa."
   ]
  },
  {
   "cell_type": "markdown",
   "id": "bc4390b9",
   "metadata": {},
   "source": [
    "## 2. Paralelización en un Cluster"
   ]
  },
  {
   "cell_type": "markdown",
   "id": "b73407fc",
   "metadata": {},
   "source": [
    "Se paralelizará una función que símplemente produce una demora de 1 segundo y se mide la demora global para cada caso. "
   ]
  },
  {
   "cell_type": "code",
   "execution_count": 1,
   "id": "3476a63c",
   "metadata": {},
   "outputs": [],
   "source": [
    "# Librerias basicas\n",
    "import time\n",
    "import ray\n",
    "import numpy as np\n",
    "# Caracteristicas del Cluster\n",
    "num_cores=4"
   ]
  },
  {
   "cell_type": "markdown",
   "id": "f9884382",
   "metadata": {},
   "source": [
    "### 2.1. Realización de una tarea sin paralelizar"
   ]
  },
  {
   "cell_type": "code",
   "execution_count": 3,
   "id": "1c98bc11",
   "metadata": {},
   "outputs": [
    {
     "name": "stdout",
     "output_type": "stream",
     "text": [
      "duracion = 4.003793478012085 \n",
      "resultados =  [0, 1, 2, 3]\n"
     ]
    }
   ],
   "source": [
    "# La función:\n",
    "def hacer_algo(x):\n",
    "    time.sleep(1) # Reemplazar esto por sus tareas\n",
    "    return x\n",
    "inicio = time.time()\n",
    "resultados = []\n",
    "# Ejecuto la función una vez por cada CPU:\n",
    "for x in range(num_cores):\n",
    "    resultados.append(hacer_algo(x))\n",
    "print(\"duracion =\", time.time() - inicio, \"\\nresultados = \", resultados)"
   ]
  },
  {
   "cell_type": "markdown",
   "id": "9aa20657",
   "metadata": {},
   "source": [
    "<b>Observación:</b><br>\n",
    "Se ejecuta la funcion \"hacer_algo(x)\" donde \"x\" es el número de CPU. Como la función produce una demora de 1 segundo, al no paralelizarse, la demora global es de: <i>num_cpus * demora(hacer_algo())= 4s</i> (demora: 4 segundos)."
   ]
  },
  {
   "cell_type": "markdown",
   "id": "29648c54",
   "metadata": {},
   "source": [
    "### 2.2. Realizar una tarea paralelizada"
   ]
  },
  {
   "cell_type": "code",
   "execution_count": 6,
   "id": "0f163fae",
   "metadata": {},
   "outputs": [
    {
     "name": "stdout",
     "output_type": "stream",
     "text": [
      "duracion = 0.09058403968811035 \n",
      "resultados =  [ObjectRef(c8ef45ccd0112571ffffffffffffffffffffffff0100000001000000), ObjectRef(16310a0f0a45af5cffffffffffffffffffffffff0100000001000000), ObjectRef(c2668a65bda616c1ffffffffffffffffffffffff0100000001000000), ObjectRef(32d950ec0ccf9d2affffffffffffffffffffffff0100000001000000)]\n"
     ]
    }
   ],
   "source": [
    "# Inicializacion Instancia Ray\n",
    "# Nota: Si se ejecuta ray.init dos veces, se produce un error.\n",
    "ray.init(num_cpus = num_cores)"
   ]
  },
  {
   "cell_type": "code",
   "execution_count": 6,
   "id": "74bec232",
   "metadata": {},
   "outputs": [
    {
     "name": "stdout",
     "output_type": "stream",
     "text": [
      "duracion = 0.09058403968811035 \n",
      "resultados =  [ObjectRef(c8ef45ccd0112571ffffffffffffffffffffffff0100000001000000), ObjectRef(16310a0f0a45af5cffffffffffffffffffffffff0100000001000000), ObjectRef(c2668a65bda616c1ffffffffffffffffffffffff0100000001000000), ObjectRef(32d950ec0ccf9d2affffffffffffffffffffffff0100000001000000)]\n"
     ]
    }
   ],
   "source": [
    "# La función con el Decorador:\n",
    "@ray.remote\n",
    "def hacer_algo(x):\n",
    "    time.sleep(1) # Reemplazar esto por sus tareas\n",
    "    return x\n",
    "inicio = time.time()\n",
    "resultados = []\n",
    "# Ejecuto la función una vez por cada CPU remota:\n",
    "for x in range(num_cores):\n",
    "    resultados.append(hacer_algo.remote(x))\n",
    "print(\"duracion =\", time.time() - inicio, \"\\nresultados = \", resultados)"
   ]
  },
  {
   "cell_type": "markdown",
   "id": "cd75cfa6",
   "metadata": {},
   "source": [
    "<b>Observación:</b><br>\n",
    "El tiempo total de ejecucion resulto ser de una fracción de segundo, lo cual no parece ser el resultado esperado (se esperaba algo más de 1 seg). Esto es porque devuelve el tiempo total para la invocación de las funciones, y no los tiempos de ejecución. Devuelve también, los IDs de cada uno de los objetos que contendrán los resultados tras la finalización del trabajo."
   ]
  },
  {
   "cell_type": "markdown",
   "id": "19f934cc",
   "metadata": {},
   "source": [
    "#### El metodo GET"
   ]
  },
  {
   "cell_type": "markdown",
   "id": "21fd0bca",
   "metadata": {},
   "source": [
    "Usando el método GET de RAY para obtener el tiempo total insumido."
   ]
  },
  {
   "cell_type": "code",
   "execution_count": 10,
   "id": "c62a46f8",
   "metadata": {},
   "outputs": [
    {
     "name": "stdout",
     "output_type": "stream",
     "text": [
      "duracion = 4.038443088531494 \n",
      "resultados =  [0, 1, 2, 3]\n"
     ]
    }
   ],
   "source": [
    "inicio = time.time()\n",
    "resultados = []\n",
    "# Ejecuto la función una vez por cada CPU remota:\n",
    "for x in range(num_cores):\n",
    "    resultados.append(ray.get(hacer_algo.remote(x)))\n",
    "print(\"duracion =\", time.time() - inicio, \"\\nresultados = \", resultados)"
   ]
  },
  {
   "cell_type": "markdown",
   "id": "0cbf0cad",
   "metadata": {},
   "source": [
    "### 2.3. Evitar paralelizar tareas muy pequeñas"
   ]
  },
  {
   "cell_type": "markdown",
   "id": "3cb42e65",
   "metadata": {},
   "source": [
    "Si se parlelizan gran cantidad de tareas muy pequeñas podemos tener efectos no deseados: a causa del tiempo mínimo que se usa para procesar la función, propagada por la cantidad de hilos produce una demora considerable."
   ]
  },
  {
   "cell_type": "code",
   "execution_count": 31,
   "id": "c1bcb871",
   "metadata": {},
   "outputs": [
    {
     "name": "stdout",
     "output_type": "stream",
     "text": [
      "duracion = 16.606837034225464\n"
     ]
    }
   ],
   "source": [
    "cant_tareas=20000\n",
    "# La función \"hacer_algo_chico\" con el Decorador:\n",
    "@ray.remote\n",
    "def hacer_algo_chico(x):\n",
    "    time.sleep(0.0001) # Reemplazar por tu función\n",
    "    return x\n",
    "inicio = time.time()\n",
    "resultados_ids = []\n",
    "# Ejecuto la función una vez por cada CPU remota:\n",
    "for x in range(cant_tareas):\n",
    "    resultados_ids.append(hacer_algo_chico.remote(x))\n",
    "resultado=ray.get(resultados_ids)\n",
    "print(\"duracion =\", time.time() - inicio)"
   ]
  },
  {
   "cell_type": "markdown",
   "id": "ce5f2105",
   "metadata": {},
   "source": [
    "Observar que el tiempo total insumido es muy alto en comparación con lo que debería ser. Esto se debe al peso del procesamiento por hilo.<br>"
   ]
  },
  {
   "cell_type": "markdown",
   "id": "f36f2687",
   "metadata": {},
   "source": [
    "#### Englobarlas en una tarea mayor"
   ]
  },
  {
   "cell_type": "code",
   "execution_count": 35,
   "id": "cd70c56c",
   "metadata": {},
   "outputs": [
    {
     "name": "stdout",
     "output_type": "stream",
     "text": [
      "duracion = 6.429934024810791\n"
     ]
    }
   ],
   "source": [
    "#Función mayor que engloba:\n",
    "@ray.remote\n",
    "def hacer_algo_grande(inicio, fin):\n",
    "    resultados = []\n",
    "    for x in range(inicio,fin):\n",
    "        resultados.append(hacer_algo_chico.remote(x))\n",
    "    return resultados\n",
    "# Main:\n",
    "inicio = time.time()\n",
    "resultados_ids = []\n",
    "iterac=int(cant_tareas/1000)\n",
    "for x in range(iterac):\n",
    "    resultados_ids.append(hacer_algo_grande.remote(x*int(cant_tareas/iterac), (x+1)*int(cant_tareas/iterac)))\n",
    "resultados = ray.get(resultados_ids)\n",
    "print(\"duracion =\", time.time() - inicio)"
   ]
  },
  {
   "cell_type": "markdown",
   "id": "adf1d907",
   "metadata": {},
   "source": [
    "Puede observarse que el tiempo de procesamiento global se reduce al 30% en comparación con tareas pequeñas paralelizadas."
   ]
  },
  {
   "cell_type": "markdown",
   "id": "6ae3e8b1",
   "metadata": {},
   "source": [
    "#### Sobrecarga por tarea:"
   ]
  },
  {
   "cell_type": "markdown",
   "id": "e73256a0",
   "metadata": {},
   "source": [
    "¿Cuál es la sobrecarga por cada tarea?"
   ]
  },
  {
   "cell_type": "code",
   "execution_count": 36,
   "id": "4f2ba6ea",
   "metadata": {},
   "outputs": [
    {
     "name": "stdout",
     "output_type": "stream",
     "text": [
      "Sobregarga por tarea (ms) = 0.8735753655433655\n"
     ]
    }
   ],
   "source": [
    "# Funcion que no hace nada\n",
    "@ray.remote\n",
    "def hacer_nada(x):\n",
    "    return x \n",
    "# Main;\n",
    "inicio = time.time()\n",
    "resultados_ids = []\n",
    "for x in range(cant_tareas):\n",
    "    resultados_ids.append(hacer_nada.remote(x))\n",
    "resultados = ray.get(resultados_ids)\n",
    "print(\"Sobregarga por tarea (ms) =\", (time.time() - inicio)*1000/cant_tareas)"
   ]
  }
 ],
 "metadata": {
  "kernelspec": {
   "display_name": "Python 3 (ipykernel)",
   "language": "python",
   "name": "python3"
  },
  "language_info": {
   "codemirror_mode": {
    "name": "ipython",
    "version": 3
   },
   "file_extension": ".py",
   "mimetype": "text/x-python",
   "name": "python",
   "nbconvert_exporter": "python",
   "pygments_lexer": "ipython3",
   "version": "3.9.7"
  }
 },
 "nbformat": 4,
 "nbformat_minor": 5
}
